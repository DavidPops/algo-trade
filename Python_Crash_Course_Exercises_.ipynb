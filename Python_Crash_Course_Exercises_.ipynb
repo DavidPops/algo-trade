{
  "nbformat": 4,
  "nbformat_minor": 0,
  "metadata": {
    "colab": {
      "name": "Python Crash Course Exercises .ipynb",
      "version": "0.3.2",
      "provenance": [],
      "include_colab_link": true
    },
    "language_info": {
      "codemirror_mode": {
        "name": "ipython",
        "version": 3
      },
      "file_extension": ".py",
      "mimetype": "text/x-python",
      "name": "python",
      "nbconvert_exporter": "python",
      "pygments_lexer": "ipython3",
      "version": "3.5.3"
    },
    "kernelspec": {
      "display_name": "Python [default]",
      "language": "python",
      "name": "python3"
    }
  },
  "cells": [
    {
      "cell_type": "markdown",
      "metadata": {
        "id": "view-in-github",
        "colab_type": "text"
      },
      "source": [
        "<a href=\"https://colab.research.google.com/github/DavidPops/algo-trade/blob/exercises/Python_Crash_Course_Exercises_.ipynb\" target=\"_parent\"><img src=\"https://colab.research.google.com/assets/colab-badge.svg\" alt=\"Open In Colab\"/></a>"
      ]
    },
    {
      "cell_type": "markdown",
      "metadata": {
        "id": "t-mhoZ_sAt4H",
        "colab_type": "text"
      },
      "source": [
        "# Python Crash Course Exercises \n",
        "\n",
        "This is an optional exercise to test your understanding of Python Basics. The questions tend to have a financial theme to them, but don't look to deeply into these tasks themselves, many of them don't hold any significance and are meaningless. If you find this extremely challenging, then you probably are not ready for the rest of this course yet and don't have enough programming experience to continue. I would suggest you take another course more geared towards complete beginners, such as [Complete Python Bootcamp](https://www.udemy.com/complete-python-bootcamp/)"
      ]
    },
    {
      "cell_type": "markdown",
      "metadata": {
        "id": "BHJB5r0VAt4T",
        "colab_type": "text"
      },
      "source": [
        "## Exercises\n",
        "\n",
        "Answer the questions or complete the tasks outlined in bold below, use the specific method described if applicable."
      ]
    },
    {
      "cell_type": "markdown",
      "metadata": {
        "id": "YIXqIhsLAt4Y",
        "colab_type": "text"
      },
      "source": [
        "### Task #1\n",
        "\n",
        "Given price = 300 , use python to figure out the square root of the price."
      ]
    },
    {
      "cell_type": "code",
      "metadata": {
        "id": "dW7gZ62LAt4e",
        "colab_type": "code",
        "colab": {
          "base_uri": "https://localhost:8080/",
          "height": 34
        },
        "outputId": "0d9b5383-8f55-4e61-e8b9-e2b8d3da76a8"
      },
      "source": [
        "price = 300\n",
        "price ** 0.5"
      ],
      "execution_count": 5,
      "outputs": [
        {
          "output_type": "execute_result",
          "data": {
            "text/plain": [
              "17.320508075688775"
            ]
          },
          "metadata": {
            "tags": []
          },
          "execution_count": 5
        }
      ]
    },
    {
      "cell_type": "code",
      "metadata": {
        "id": "JYwT0JkrAt4z",
        "colab_type": "code",
        "colab": {
          "base_uri": "https://localhost:8080/",
          "height": 34
        },
        "outputId": "cc3f430e-5168-4c04-d122-5bac0d1d413a"
      },
      "source": [
        "price ** 0.5"
      ],
      "execution_count": 6,
      "outputs": [
        {
          "output_type": "execute_result",
          "data": {
            "text/plain": [
              "17.320508075688775"
            ]
          },
          "metadata": {
            "tags": []
          },
          "execution_count": 6
        }
      ]
    },
    {
      "cell_type": "code",
      "metadata": {
        "id": "wjvNXUpwAt5K",
        "colab_type": "code",
        "colab": {}
      },
      "source": [
        ""
      ],
      "execution_count": 0,
      "outputs": []
    },
    {
      "cell_type": "markdown",
      "metadata": {
        "id": "n7edUxdfAt5b",
        "colab_type": "text"
      },
      "source": [
        "### Task #2\n",
        "\n",
        "Given the string:\n",
        "\n",
        "    stock_index = \"SP500\"\n",
        "   \n",
        "Grab '500' from the string using indexing."
      ]
    },
    {
      "cell_type": "code",
      "metadata": {
        "id": "1khxY31lAt5f",
        "colab_type": "code",
        "colab": {
          "base_uri": "https://localhost:8080/",
          "height": 34
        },
        "outputId": "541aeca2-3728-46da-9a18-1d87c673e08d"
      },
      "source": [
        "stock_index = \"SP500\"\n",
        "stock_index.split(\"P\")[1]"
      ],
      "execution_count": 13,
      "outputs": [
        {
          "output_type": "execute_result",
          "data": {
            "text/plain": [
              "'500'"
            ]
          },
          "metadata": {
            "tags": []
          },
          "execution_count": 13
        }
      ]
    },
    {
      "cell_type": "code",
      "metadata": {
        "id": "roLPE6_fAt5r",
        "colab_type": "code",
        "colab": {
          "base_uri": "https://localhost:8080/",
          "height": 165
        },
        "outputId": "09be5c07-19a1-46a7-a1d8-3a1687169106"
      },
      "source": [
        ""
      ],
      "execution_count": 8,
      "outputs": [
        {
          "output_type": "error",
          "ename": "NameError",
          "evalue": "ignored",
          "traceback": [
            "\u001b[0;31m---------------------------------------------------------------------------\u001b[0m",
            "\u001b[0;31mNameError\u001b[0m                                 Traceback (most recent call last)",
            "\u001b[0;32m<ipython-input-8-bf7fbbfb150a>\u001b[0m in \u001b[0;36m<module>\u001b[0;34m()\u001b[0m\n\u001b[0;32m----> 1\u001b[0;31m \u001b[0mstock_index\u001b[0m\u001b[0;34m[\u001b[0m\u001b[0;36m2\u001b[0m\u001b[0;34m:\u001b[0m\u001b[0;34m]\u001b[0m\u001b[0;34m\u001b[0m\u001b[0;34m\u001b[0m\u001b[0m\n\u001b[0m",
            "\u001b[0;31mNameError\u001b[0m: name 'stock_index' is not defined"
          ]
        }
      ]
    },
    {
      "cell_type": "markdown",
      "metadata": {
        "id": "snwJu_sIAt57",
        "colab_type": "text"
      },
      "source": [
        "### Task #3\n",
        "\n",
        "** Given the variables:**\n",
        "\n",
        "    stock_index = \"SP500\"\n",
        "    price = 300\n",
        "\n",
        "** Use .format() to print the following string: **\n",
        "\n",
        "    The SP500 is at 300 today."
      ]
    },
    {
      "cell_type": "code",
      "metadata": {
        "id": "pqjn7uaqAt5_",
        "colab_type": "code",
        "colab": {}
      },
      "source": [
        "stock_index = \"SP500\"\n",
        "price = 300"
      ],
      "execution_count": 0,
      "outputs": []
    },
    {
      "cell_type": "code",
      "metadata": {
        "id": "LtfjTKV2At6P",
        "colab_type": "code",
        "colab": {
          "base_uri": "https://localhost:8080/",
          "height": 34
        },
        "outputId": "a2bdac87-98c2-4099-bd17-1c888df1b70e"
      },
      "source": [
        "print(\"The {x} is at {y} today\".format(x=stock_index, y=price))"
      ],
      "execution_count": 16,
      "outputs": [
        {
          "output_type": "stream",
          "text": [
            "The SP500 is at 300 today\n"
          ],
          "name": "stdout"
        }
      ]
    },
    {
      "cell_type": "markdown",
      "metadata": {
        "id": "UTT0nqmPAt6s",
        "colab_type": "text"
      },
      "source": [
        "### Task #4\n",
        "\n",
        "** Given the variable of a nested dictionary with nested lists: **\n",
        "\n",
        "    stock_info = {'sp500':{'today':300,'yesterday': 250}, 'info':['Time',[24,7,365]]}\n",
        "    \n",
        "** Use indexing and key calls to grab the following items:**\n",
        "\n",
        "* Yesterday's SP500 price (250)\n",
        "* The number 365 nested inside a list nested inside the 'info' key."
      ]
    },
    {
      "cell_type": "code",
      "metadata": {
        "id": "fShCdic2At6w",
        "colab_type": "code",
        "colab": {
          "base_uri": "https://localhost:8080/",
          "height": 34
        },
        "outputId": "bdfd0c43-8ab2-445a-a997-b223f5900c81"
      },
      "source": [
        "stock_info = {'sp500':{'today':300,'yesterday': 250}, 'info':['Time',[24,7,365]]}\n",
        "stock_info['sp500']['yesterday']"
      ],
      "execution_count": 20,
      "outputs": [
        {
          "output_type": "execute_result",
          "data": {
            "text/plain": [
              "250"
            ]
          },
          "metadata": {
            "tags": []
          },
          "execution_count": 20
        }
      ]
    },
    {
      "cell_type": "code",
      "metadata": {
        "id": "IR4u_hcUAt7E",
        "colab_type": "code",
        "colab": {
          "base_uri": "https://localhost:8080/",
          "height": 34
        },
        "outputId": "51d59c94-d93b-4898-8744-d7f7501086f0"
      },
      "source": [
        "stock_info['info'][1][2]"
      ],
      "execution_count": 21,
      "outputs": [
        {
          "output_type": "execute_result",
          "data": {
            "text/plain": [
              "365"
            ]
          },
          "metadata": {
            "tags": []
          },
          "execution_count": 21
        }
      ]
    },
    {
      "cell_type": "code",
      "metadata": {
        "id": "T4Bg9c78At7S",
        "colab_type": "code",
        "colab": {},
        "outputId": "dc36d5c6-d78b-4358-f10a-b61debd68b75"
      },
      "source": [
        ""
      ],
      "execution_count": 0,
      "outputs": [
        {
          "output_type": "execute_result",
          "data": {
            "text/plain": [
              "365"
            ]
          },
          "metadata": {
            "tags": []
          },
          "execution_count": 15
        }
      ]
    },
    {
      "cell_type": "markdown",
      "metadata": {
        "id": "QkVWFWbuAt7i",
        "colab_type": "text"
      },
      "source": [
        "### Task #5\n",
        "\n",
        "** Given strings with this form where the last source value is always separated by two dashes -- **\n",
        "\n",
        "    \"PRICE:345.324:SOURCE--QUANDL\"\n",
        "    \n",
        "**Create a function called source_finder() that returns the source. For example, the above string passed into the function would return \"QUANDL\"**"
      ]
    },
    {
      "cell_type": "code",
      "metadata": {
        "id": "xPoEEm78At7l",
        "colab_type": "code",
        "colab": {}
      },
      "source": [
        "def source_finder(param):\n",
        "  return param.split(\"--\")[1]"
      ],
      "execution_count": 0,
      "outputs": []
    },
    {
      "cell_type": "code",
      "metadata": {
        "id": "CLXMAOy3At7x",
        "colab_type": "code",
        "colab": {
          "base_uri": "https://localhost:8080/",
          "height": 34
        },
        "outputId": "7c1e1e86-fc47-49c1-895e-4df404e8d424"
      },
      "source": [
        "source_finder(\"PRICE:345.324:SOURCE--QUANDL\")"
      ],
      "execution_count": 26,
      "outputs": [
        {
          "output_type": "execute_result",
          "data": {
            "text/plain": [
              "'QUANDL'"
            ]
          },
          "metadata": {
            "tags": []
          },
          "execution_count": 26
        }
      ]
    },
    {
      "cell_type": "markdown",
      "metadata": {
        "id": "Z3fq7TtFAt8A",
        "colab_type": "text"
      },
      "source": [
        "### Task #5\n",
        "\n",
        "** Create a function called price_finder that returns True if the word 'price' is in a string. Your function should work even if 'Price' is capitalized or next to punctuation ('price!')  **"
      ]
    },
    {
      "cell_type": "code",
      "metadata": {
        "id": "hv0whZQiAt8D",
        "colab_type": "code",
        "colab": {}
      },
      "source": [
        ""
      ],
      "execution_count": 0,
      "outputs": []
    },
    {
      "cell_type": "code",
      "metadata": {
        "id": "8r58cjDjAt8N",
        "colab_type": "code",
        "colab": {},
        "outputId": "79cf7117-45fe-48fb-d9c9-2aee3c109647"
      },
      "source": [
        "price_finder(\"What is the price?\")"
      ],
      "execution_count": 0,
      "outputs": [
        {
          "output_type": "execute_result",
          "data": {
            "text/plain": [
              "True"
            ]
          },
          "metadata": {
            "tags": []
          },
          "execution_count": 20
        }
      ]
    },
    {
      "cell_type": "code",
      "metadata": {
        "id": "BpO53PlVAt8j",
        "colab_type": "code",
        "colab": {},
        "outputId": "7de41fae-3edf-4061-f011-5df5c4db3742"
      },
      "source": [
        "price_finder(\"DUDE, WHAT IS PRICE!!!\")"
      ],
      "execution_count": 0,
      "outputs": [
        {
          "output_type": "execute_result",
          "data": {
            "text/plain": [
              "True"
            ]
          },
          "metadata": {
            "tags": []
          },
          "execution_count": 22
        }
      ]
    },
    {
      "cell_type": "code",
      "metadata": {
        "id": "92tSRxG6At9L",
        "colab_type": "code",
        "colab": {},
        "outputId": "b20d0ebc-d64b-4d4e-e871-14c7fc2bc3c5"
      },
      "source": [
        "price_finder(\"The price is 300\")"
      ],
      "execution_count": 0,
      "outputs": [
        {
          "output_type": "execute_result",
          "data": {
            "text/plain": [
              "True"
            ]
          },
          "metadata": {
            "tags": []
          },
          "execution_count": 23
        }
      ]
    },
    {
      "cell_type": "markdown",
      "metadata": {
        "id": "2vSOeJaoAt9c",
        "colab_type": "text"
      },
      "source": [
        "### Task #6\n",
        "\n",
        "** Create a function called count_price() that counts the number of times the word \"price\" occurs in a string. Account for capitalization and if the word price is next to punctuation. **"
      ]
    },
    {
      "cell_type": "code",
      "metadata": {
        "id": "1XgwHQQeAt9h",
        "colab_type": "code",
        "colab": {}
      },
      "source": [
        ""
      ],
      "execution_count": 0,
      "outputs": []
    },
    {
      "cell_type": "code",
      "metadata": {
        "id": "jj9REe8IAt9x",
        "colab_type": "code",
        "colab": {}
      },
      "source": [
        "s = 'Wow that is a nice price, very nice Price! I said price 3 times.'"
      ],
      "execution_count": 0,
      "outputs": []
    },
    {
      "cell_type": "code",
      "metadata": {
        "id": "1aqSqcN0At98",
        "colab_type": "code",
        "colab": {},
        "outputId": "3ec31042-7b49-48b0-d561-e6ef0e1270a0"
      },
      "source": [
        "count_price(s)"
      ],
      "execution_count": 0,
      "outputs": [
        {
          "output_type": "execute_result",
          "data": {
            "text/plain": [
              "3"
            ]
          },
          "metadata": {
            "tags": []
          },
          "execution_count": 47
        }
      ]
    },
    {
      "cell_type": "markdown",
      "metadata": {
        "id": "WW_C0C_PAt-V",
        "colab_type": "text"
      },
      "source": [
        "### Task #7\n",
        "\n",
        "**Create a function called avg_price that takes in a list of stock price numbers and calculates the average (Sum of the numbers divided by the number of elements in the list). It should return a float. **"
      ]
    },
    {
      "cell_type": "code",
      "metadata": {
        "id": "U6axA_b-At-X",
        "colab_type": "code",
        "colab": {}
      },
      "source": [
        ""
      ],
      "execution_count": 0,
      "outputs": []
    },
    {
      "cell_type": "code",
      "metadata": {
        "id": "c17BTEiXAt-d",
        "colab_type": "code",
        "colab": {},
        "outputId": "d53d9df5-b38b-4ee0-f276-b978caa32f62"
      },
      "source": [
        "avg_price([3,4,5])"
      ],
      "execution_count": 0,
      "outputs": [
        {
          "output_type": "execute_result",
          "data": {
            "text/plain": [
              "4.0"
            ]
          },
          "metadata": {
            "tags": []
          },
          "execution_count": 30
        }
      ]
    },
    {
      "cell_type": "markdown",
      "metadata": {
        "id": "gOBMDRNfAt-t",
        "colab_type": "text"
      },
      "source": [
        "# Great job!"
      ]
    }
  ]
}